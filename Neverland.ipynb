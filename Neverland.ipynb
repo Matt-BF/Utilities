{
 "cells": [
  {
   "cell_type": "code",
   "execution_count": 1,
   "metadata": {
    "collapsed": true
   },
   "outputs": [],
   "source": [
    "import requests\n",
    "import bs4\n",
    "from twilio.rest import Client\n",
    "#import smtplib\n",
    "import os"
   ]
  },
  {
   "cell_type": "code",
   "execution_count": 2,
   "metadata": {
    "collapsed": true
   },
   "outputs": [],
   "source": [
    "site = requests.get(\"https://mangastream.com/\")\n",
    "site.raise_for_status()"
   ]
  },
  {
   "cell_type": "code",
   "execution_count": 3,
   "metadata": {
    "collapsed": true
   },
   "outputs": [],
   "source": [
    "mstream_soup = bs4.BeautifulSoup(site.text, \"lxml\")\n",
    "\n",
    "links = mstream_soup.find_all(\"a\")\n",
    "    \n"
   ]
  },
  {
   "cell_type": "code",
   "execution_count": 4,
   "metadata": {},
   "outputs": [
    {
     "data": {
      "text/plain": [
       "[<a href=\"/manga/neverland\">Promised Neverland</a>,\n",
       " <a href=\"/r/neverland/064/4712/1\"><span class=\"pull-right\">2 days ago</span><i class=\"fa fa-star\"></i> The Promised Neverland <strong>064</strong><em>What If I Were...</em></a>,\n",
       " <a href=\"/r/neverland/063/4695/1\"><span class=\"pull-right\">Nov 10th</span>The Promised Neverland <strong>063</strong><em>Help</em></a>,\n",
       " <a href=\"/r/neverland/064/4712/1\"><span class=\"pull-right\">2 days ago</span><i aria-hidden=\"true\" class=\"fa fa-star\"></i> The Promised Neverland <strong>064</strong><em>What If I Were...</em></a>,\n",
       " <a href=\"/r/neverland/063/4695/1\"><span class=\"pull-right\">Nov 10th</span>The Promised Neverland <strong>063</strong><em>Help</em></a>]"
      ]
     },
     "execution_count": 4,
     "metadata": {},
     "output_type": "execute_result"
    }
   ],
   "source": [
    "neverland = []\n",
    "    \n",
    "for link in links:\n",
    "    if \"neverland\" in link.get(\"href\"):\n",
    "        neverland.append(link)\n",
    "\n",
    "neverland"
   ]
  },
  {
   "cell_type": "code",
   "execution_count": null,
   "metadata": {
    "collapsed": true
   },
   "outputs": [],
   "source": [
    "if \"Today\" in str(neverland):\n",
    "    if os.path.isfile(\"/home/Matt/scripts/test.txt\"):\n",
    "        quit()\n",
    "    else:\n",
    "        accountSID = \"AC09ab7be7155048435f6fa085e6e16a1e\"\n",
    "        authToken = \"03f422196dcdcd253e238336eedbf1a7\"\n",
    "        twilioCli = Client(accountSID, authToken)\n",
    "        tnum = \"+12342319880\"\n",
    "        mynum = \"+5519991300204\"\n",
    "        message = twilioCli.messages.create(from_ = tnum, \n",
    "                                                to = mynum,\n",
    "                                                body = \"A new Promised Neverland Chapter is out!\")\n",
    "        with open(\"test.txt\",\"w\") as f:\n",
    "            f\n",
    "else:\n",
    "    if os.path.isfile(\"/home/Matt/scripts/test.txt\"):\n",
    "        "
   ]
  },
  {
   "cell_type": "code",
   "execution_count": 14,
   "metadata": {},
   "outputs": [],
   "source": [
    "if \"Today\" in str(neverland):\n",
    "    if os.path.isfile(\"/home/Matt/scripts/test.txt\"):\n",
    "        print(\"Yes\")\n",
    "    else:\n",
    "        with open(\"/home/Matt/scripts/test.txt\",\"w\") as f:\n",
    "            f\n",
    "else:\n",
    "    if os.path.isfile(\"/home/Matt/scripts/test.txt\"):\n",
    "        os.remove(\"/home/Matt/scripts/test.txt\")"
   ]
  },
  {
   "cell_type": "code",
   "execution_count": null,
   "metadata": {
    "collapsed": true
   },
   "outputs": [],
   "source": [
    "#if \"Today\" in str(neverland):\n",
    "    #if os.path.isfile(\"/home/Matt/scripts/test.txt\"):\n",
    "        #quit()\n",
    "#    else:\n",
    "    #    mail = smtplib.SMTP(\"smtp.gmail.com\",587)\n",
    "    #    mail.ehlo()\n",
    "    #   mail.starttls()\n",
    "    #   mail.login(user = \"mbfiamenghi@gmail.com\", password = \"Mbf$cotland\")\n",
    "    #    mail.sendmail(\"mbfiamenghi@gmail.com\", \"mbfiamenghi@gmail.com\",\n",
    "    #              \"Subject: New Promised Neverland Chapter.\\nA new chapter of Promised Neverland is out!\")\n",
    "    #    mail.quit()\n",
    "#        with open(\"test.txt\",\"w\") as f:\n",
    "#            f\n",
    "#else:\n",
    "#    if os.path.isfile(\"/home/Matt/scripts/test.txt\"):\n",
    "#        os.remove(\"/home/Matt/scripts/test.txt\")"
   ]
  }
 ],
 "metadata": {
  "kernelspec": {
   "display_name": "Python 3",
   "language": "python",
   "name": "python3"
  },
  "language_info": {
   "codemirror_mode": {
    "name": "ipython",
    "version": 3
   },
   "file_extension": ".py",
   "mimetype": "text/x-python",
   "name": "python",
   "nbconvert_exporter": "python",
   "pygments_lexer": "ipython3",
   "version": "3.6.2"
  }
 },
 "nbformat": 4,
 "nbformat_minor": 2
}
