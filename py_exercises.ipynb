{
 "cells": [
  {
   "cell_type": "markdown",
   "metadata": {},
   "source": [
    "# Exercícios de Python"
   ]
  },
  {
   "cell_type": "markdown",
   "metadata": {},
   "source": [
    "**Obs: Hyperlinks funcionam no jupyter-notebook, mas ainda não no jupyter-lab**"
   ]
  },
  {
   "cell_type": "markdown",
   "metadata": {},
   "source": [
    "## 1. Básicos da linguagem"
   ]
  },
  {
   "cell_type": "markdown",
   "metadata": {},
   "source": [
    "#### Exercício 1"
   ]
  },
  {
   "cell_type": "markdown",
   "metadata": {},
   "source": [
    "Faça um programa que peça dois números e dê a soma, a divisão, o resto da divisão, a multiplicação e a potência ($primeiro^{segundo}$)\n",
    "\n"
   ]
  },
  {
   "cell_type": "markdown",
   "metadata": {},
   "source": [
    "[Resposta](#1_ex1)"
   ]
  },
  {
   "cell_type": "code",
   "execution_count": null,
   "metadata": {},
   "outputs": [],
   "source": []
  },
  {
   "cell_type": "markdown",
   "metadata": {},
   "source": [
    "#### Exercício 2\n",
    "\n",
    "<a id='ex1_2'></a>"
   ]
  },
  {
   "cell_type": "markdown",
   "metadata": {},
   "source": [
    "Faça um programa que peça o nome da pessoa e printe \"Nice to meet you [nome da pessoa] usando *string concatenation*\n",
    "\n",
    "[Resposta](#1_ex2)"
   ]
  },
  {
   "cell_type": "code",
   "execution_count": null,
   "metadata": {},
   "outputs": [],
   "source": []
  },
  {
   "cell_type": "markdown",
   "metadata": {},
   "source": [
    "#### Exercício 3"
   ]
  },
  {
   "cell_type": "markdown",
   "metadata": {},
   "source": [
    "Faça o mesmo programa que o exercício anterior, mas usando *string formatting*\n",
    "\n",
    "[Resposta](#1_ex3)"
   ]
  },
  {
   "cell_type": "code",
   "execution_count": null,
   "metadata": {},
   "outputs": [],
   "source": []
  },
  {
   "cell_type": "markdown",
   "metadata": {},
   "source": [
    "#### Exercício 4"
   ]
  },
  {
   "cell_type": "markdown",
   "metadata": {},
   "source": [
    "Dadas as variáveis abaixo, printe o tamanho de cada uma delas\n",
    "\n",
    "[Resposta](#1_ex4)"
   ]
  },
  {
   "cell_type": "code",
   "execution_count": 11,
   "metadata": {},
   "outputs": [],
   "source": [
    "example_string = \"abcdefghijklmnopqrstuvwxyz\"\n",
    "example_list = [\"a\",1,2,{3:5}]\n",
    "example_dict = {\"a\":1,\"b\":2}"
   ]
  },
  {
   "cell_type": "code",
   "execution_count": null,
   "metadata": {},
   "outputs": [],
   "source": []
  },
  {
   "cell_type": "markdown",
   "metadata": {},
   "source": [
    "---"
   ]
  },
  {
   "cell_type": "markdown",
   "metadata": {},
   "source": [
    "## 2. Flow control e importando módulos"
   ]
  },
  {
   "cell_type": "markdown",
   "metadata": {},
   "source": [
    "#### Exercício 1"
   ]
  },
  {
   "cell_type": "markdown",
   "metadata": {},
   "source": [
    "Refaça o programa do [exercício 2 da parte 1](#ex1_2), mas se o nome colocado for *\"Matt\"* printe *\"Matt, you made this notebook!\"* ao invés da saudação original. Se o nome colocado for *\"Fox\"* printe *\"Fox, you are our teacher!\"* ao invés da saudação original\n",
    "\n",
    "[Resposta](#2_ex1)"
   ]
  },
  {
   "cell_type": "code",
   "execution_count": null,
   "metadata": {},
   "outputs": [],
   "source": []
  },
  {
   "cell_type": "markdown",
   "metadata": {},
   "source": [
    "#### Exercício 2"
   ]
  },
  {
   "cell_type": "markdown",
   "metadata": {},
   "source": [
    "Faça um programa que vá somando +1 de 0 até 5, printando cada resultado, e ao acabar printe *Goodbye world*\n",
    "\n",
    "[Resposta](#2_ex2)"
   ]
  },
  {
   "cell_type": "code",
   "execution_count": null,
   "metadata": {},
   "outputs": [],
   "source": []
  },
  {
   "cell_type": "markdown",
   "metadata": {},
   "source": [
    "#### Exercício 3"
   ]
  },
  {
   "cell_type": "markdown",
   "metadata": {},
   "source": [
    "Faça um programa que vá subtraindo 1 de 5 até 0, printando cada resultado. Use a função *range()*\n",
    "\n",
    "[Resposta](#2_ex3)"
   ]
  },
  {
   "cell_type": "code",
   "execution_count": null,
   "metadata": {},
   "outputs": [],
   "source": []
  },
  {
   "cell_type": "markdown",
   "metadata": {},
   "source": [
    "#### Exercício 4"
   ]
  },
  {
   "cell_type": "markdown",
   "metadata": {},
   "source": [
    "Faça um programa que resolva o problema Gaussiano (somar todos os números de 0 a 100)\n",
    "\n",
    "[Resposta](#2_ex4)"
   ]
  },
  {
   "cell_type": "code",
   "execution_count": null,
   "metadata": {},
   "outputs": [],
   "source": []
  },
  {
   "cell_type": "markdown",
   "metadata": {},
   "source": [
    "#### Exercício 5"
   ]
  },
  {
   "cell_type": "markdown",
   "metadata": {},
   "source": [
    "Importe o módulo *random* e printe um número aleatório entre 1 e 100\n",
    "\n",
    "[Resposta](#2_ex5)"
   ]
  },
  {
   "cell_type": "code",
   "execution_count": null,
   "metadata": {},
   "outputs": [],
   "source": []
  },
  {
   "cell_type": "markdown",
   "metadata": {},
   "source": [
    "#### **Exercício 6 - Desafio**"
   ]
  },
  {
   "cell_type": "markdown",
   "metadata": {},
   "source": [
    "Crie um jogo de adivinhar números com *random*. Peça para a pessoa dar o range de números que podem ser escolhidos (ex: se ela pedir 50, os números possíveis serão de 0 a 50).\n",
    "\n",
    "Dê dicas quanto à proximidade da tentativa do número certo (o número chutado é maior ou menor do que o real?).\n",
    "\n",
    "Dê 7 chances para a pessoa adivinhar, e se ela acertar, diga quantas tentativas foram necessárias\n",
    "\n",
    "**Obs: o caderno é meio bugado com os inputs, recomendo criar um script e rodar no terminal**\n",
    "\n",
    "[Resposta](#2_ex6)"
   ]
  },
  {
   "cell_type": "code",
   "execution_count": null,
   "metadata": {},
   "outputs": [],
   "source": []
  },
  {
   "cell_type": "markdown",
   "metadata": {},
   "source": [
    "---"
   ]
  },
  {
   "cell_type": "markdown",
   "metadata": {},
   "source": [
    "## 3. Listas, dicionários, tuples e sets"
   ]
  },
  {
   "cell_type": "markdown",
   "metadata": {},
   "source": [
    "#### Exercício 1"
   ]
  },
  {
   "cell_type": "markdown",
   "metadata": {},
   "source": [
    "Crie uma lista vazia e adicione os números de 1 a 5 nela, depois printe cada número adicionado\n",
    "\n",
    "[Resposta](#3_ex1)"
   ]
  },
  {
   "cell_type": "code",
   "execution_count": null,
   "metadata": {},
   "outputs": [],
   "source": []
  },
  {
   "cell_type": "markdown",
   "metadata": {},
   "source": [
    "#### Exercício 2"
   ]
  },
  {
   "cell_type": "markdown",
   "metadata": {},
   "source": [
    "Dada uma string com vários nomes, adicione os nome em uma lista usando uma linha de código. Printe a lista\n",
    "\n",
    "[Resposta](#3_ex2)"
   ]
  },
  {
   "cell_type": "code",
   "execution_count": 26,
   "metadata": {},
   "outputs": [],
   "source": [
    "names_string = \"Fox Ju Matt Duguay Sulli Xuli Racha Pfaffengod\""
   ]
  },
  {
   "cell_type": "code",
   "execution_count": null,
   "metadata": {},
   "outputs": [],
   "source": []
  },
  {
   "cell_type": "markdown",
   "metadata": {},
   "source": [
    "#### **Exercício X - Desafio**"
   ]
  },
  {
   "cell_type": "markdown",
   "metadata": {},
   "source": [
    "Você é um desenvolvedor de um jogo de RPG e precisa programar um inventário atualizado após a derrota de um dragão, com o loot dropado.\n",
    "\n",
    "O inventário é dado como um dicionário e o loot do dragão é uma lista que deve ser adicionado ao dicionário.\n",
    "\n",
    "Printe o inventário antes e depois de adicionar o loot"
   ]
  },
  {
   "cell_type": "code",
   "execution_count": 21,
   "metadata": {},
   "outputs": [],
   "source": [
    "inventory = {\"gold coin\":5, \"ruby\":3, \"scroll of thunder\":1, \"sword\":1, \"potion\":10}\n",
    "dragon_loot = [\"gold coin\", \"gold coin\", \"gold coin\",\"ruby\",\"scroll of fire\"]"
   ]
  },
  {
   "cell_type": "code",
   "execution_count": null,
   "metadata": {},
   "outputs": [],
   "source": []
  },
  {
   "cell_type": "markdown",
   "metadata": {},
   "source": [
    "---"
   ]
  },
  {
   "cell_type": "markdown",
   "metadata": {},
   "source": [
    "# Respostas"
   ]
  },
  {
   "cell_type": "markdown",
   "metadata": {},
   "source": [
    "## 1. Básicos da linguagem"
   ]
  },
  {
   "cell_type": "markdown",
   "metadata": {},
   "source": [
    "#### Exercício 1\n",
    "\n",
    "<a id='1_ex1'></a>"
   ]
  },
  {
   "cell_type": "code",
   "execution_count": 5,
   "metadata": {},
   "outputs": [
    {
     "name": "stdout",
     "output_type": "stream",
     "text": [
      "10.0 + 6.0 = 16.0\n",
      "10.0/6.0 = 1.6666666666666667\n",
      "The remainder of 10.0/6.0 is 4.0\n",
      "10.0 * 6.0 = 60.0\n",
      "10.0 ** 6.0 = 1000000.0\n"
     ]
    }
   ],
   "source": [
    "num_1 = float(input(\"Tell me your first number:\"))\n",
    "num_2 = float(input(\"Tell me your second number:\"))\n",
    "\n",
    "print(\"{} + {} = {}\".format(num_1,num_2,num_1+num_2))\n",
    "print(\"{}/{} = {}\".format(num_1,num_2,num_1/num_2))\n",
    "print(\"The remainder of {}/{} is {}\".format(num_1,num_2,num_1%num_2))\n",
    "print(\"{} * {} = {}\".format(num_1,num_2,num_1*num_2))\n",
    "print(\"{} ** {} = {}\".format(num_1,num_2,num_1**num_2))"
   ]
  },
  {
   "cell_type": "markdown",
   "metadata": {},
   "source": [
    " "
   ]
  },
  {
   "cell_type": "markdown",
   "metadata": {},
   "source": [
    "#### Exercício 2\n",
    "\n",
    "<a id='1_ex2'></a>"
   ]
  },
  {
   "cell_type": "code",
   "execution_count": 8,
   "metadata": {},
   "outputs": [
    {
     "name": "stdout",
     "output_type": "stream",
     "text": [
      "Nice to meet you, Matt\n"
     ]
    }
   ],
   "source": [
    "name = input(\"What's your name?\" +\"\\n\")\n",
    "\n",
    "print(\"Nice to meet you, \" + name)"
   ]
  },
  {
   "cell_type": "markdown",
   "metadata": {},
   "source": [
    " "
   ]
  },
  {
   "cell_type": "markdown",
   "metadata": {},
   "source": [
    "#### Exercício 3\n",
    "\n",
    "<a id='1_ex3'></a>"
   ]
  },
  {
   "cell_type": "code",
   "execution_count": 9,
   "metadata": {},
   "outputs": [
    {
     "name": "stdout",
     "output_type": "stream",
     "text": [
      "Nice to meet you, Matt \n"
     ]
    }
   ],
   "source": [
    "name = input(\"What's your name?\" +\"\\n\")\n",
    "\n",
    "print(\"Nice to meet you, {} \".format(name))"
   ]
  },
  {
   "cell_type": "markdown",
   "metadata": {},
   "source": [
    " "
   ]
  },
  {
   "cell_type": "markdown",
   "metadata": {},
   "source": [
    "#### Exercício 4\n",
    "\n",
    "<a id='1_ex4'></a>"
   ]
  },
  {
   "cell_type": "code",
   "execution_count": 14,
   "metadata": {},
   "outputs": [
    {
     "name": "stdout",
     "output_type": "stream",
     "text": [
      "26\n",
      "4\n",
      "2\n"
     ]
    }
   ],
   "source": [
    "print(len(example_string))\n",
    "print(len(example_list))\n",
    "print(len(example_dict))"
   ]
  },
  {
   "cell_type": "markdown",
   "metadata": {},
   "source": [
    "---"
   ]
  },
  {
   "cell_type": "markdown",
   "metadata": {},
   "source": [
    "## 2. Flow Control"
   ]
  },
  {
   "cell_type": "markdown",
   "metadata": {},
   "source": [
    "#### Exercício 1\n",
    "\n",
    "<a id='2_ex1'></a>"
   ]
  },
  {
   "cell_type": "code",
   "execution_count": 17,
   "metadata": {},
   "outputs": [
    {
     "name": "stdout",
     "output_type": "stream",
     "text": [
      "Fox, you are our teacher!\n"
     ]
    }
   ],
   "source": [
    "name = input(\"What's your name?\" +\"\\n\")\n",
    "\n",
    "if name == \"Matt\":\n",
    "    print(name + \", \" + \"you made this notebook!\")\n",
    "\n",
    "elif name == \"Fox\":\n",
    "    print(name + \", \" + \"you are our teacher!\")\n",
    "\n",
    "else:    \n",
    "    print(\"Nice to meet you, \" + name)"
   ]
  },
  {
   "cell_type": "markdown",
   "metadata": {},
   "source": [
    " "
   ]
  },
  {
   "cell_type": "markdown",
   "metadata": {},
   "source": [
    "#### Exercício 2\n",
    "\n",
    "<a id='2_ex2'></a>"
   ]
  },
  {
   "cell_type": "code",
   "execution_count": 4,
   "metadata": {},
   "outputs": [
    {
     "name": "stdout",
     "output_type": "stream",
     "text": [
      "0\n",
      "1\n",
      "2\n",
      "3\n",
      "4\n",
      "5\n",
      "Goodbye world\n"
     ]
    }
   ],
   "source": [
    "i = 0\n",
    "while i<6:\n",
    "    print(i)\n",
    "    i+=1\n",
    "print(\"Goodbye world\")"
   ]
  },
  {
   "cell_type": "markdown",
   "metadata": {},
   "source": [
    " "
   ]
  },
  {
   "cell_type": "markdown",
   "metadata": {},
   "source": [
    "#### Exercício 3\n",
    "\n",
    "<a id='2_ex3'></a>"
   ]
  },
  {
   "cell_type": "code",
   "execution_count": 10,
   "metadata": {},
   "outputs": [
    {
     "name": "stdout",
     "output_type": "stream",
     "text": [
      "5\n",
      "4\n",
      "3\n",
      "2\n",
      "1\n",
      "0\n"
     ]
    }
   ],
   "source": [
    "for i in range(5,-1,-1):\n",
    "    print(i)"
   ]
  },
  {
   "cell_type": "markdown",
   "metadata": {},
   "source": [
    " "
   ]
  },
  {
   "cell_type": "markdown",
   "metadata": {},
   "source": [
    "#### Exercício 4\n",
    "\n",
    "<a id='2_ex4'></a>"
   ]
  },
  {
   "cell_type": "code",
   "execution_count": 7,
   "metadata": {},
   "outputs": [
    {
     "name": "stdout",
     "output_type": "stream",
     "text": [
      "5050\n"
     ]
    }
   ],
   "source": [
    "gauss_num = 0\n",
    "\n",
    "for i in range(101):\n",
    "    gauss_num += i\n",
    "    \n",
    "print(gauss_num)"
   ]
  },
  {
   "cell_type": "markdown",
   "metadata": {},
   "source": [
    " "
   ]
  },
  {
   "cell_type": "markdown",
   "metadata": {},
   "source": [
    "#### Exercício 5\n",
    "\n",
    "<a id='2_ex5'></a>"
   ]
  },
  {
   "cell_type": "code",
   "execution_count": 11,
   "metadata": {},
   "outputs": [
    {
     "name": "stdout",
     "output_type": "stream",
     "text": [
      "34\n"
     ]
    }
   ],
   "source": [
    "import random\n",
    "\n",
    "rand_num = random.randint(0,100)\n",
    "print(rand_num)"
   ]
  },
  {
   "cell_type": "markdown",
   "metadata": {},
   "source": [
    " "
   ]
  },
  {
   "cell_type": "markdown",
   "metadata": {},
   "source": [
    "#### **Exercício 6 - Desafio**\n",
    "\n",
    "<a id='2_ex6'></a>"
   ]
  },
  {
   "cell_type": "code",
   "execution_count": 20,
   "metadata": {},
   "outputs": [
    {
     "name": "stdout",
     "output_type": "stream",
     "text": [
      "Try a lower number\n",
      "You are correct! The number was 0 and this is your number of tries: 2\n"
     ]
    }
   ],
   "source": [
    "import random\n",
    "\n",
    "rand_num_range = int(input(\"Tell me the range for random\" + \"\\n\"))\n",
    "rand_num_game = random.randint(0,rand_num_range)\n",
    "\n",
    "tries = 0\n",
    "\n",
    "while tries != 7:\n",
    "    guess = int(input(\"Guess the number:\" + \"\\n\"))\n",
    "    tries +=1\n",
    "    \n",
    "    if guess < rand_num_game and tries != 7:\n",
    "        print(\"Try a higher number\")\n",
    "                \n",
    "    elif guess > rand_num_game and tries !=7:\n",
    "        print(\"Try a lower number\")\n",
    "        \n",
    "    elif tries == 7:\n",
    "        print(\"Too bad! The correct number was {}\".format(rand_num_game))\n",
    "\n",
    "    \n",
    "    else:\n",
    "        print(\"You are correct! The number was {} and this is your number of tries: {}\".format(rand_num_game,tries))\n",
    "        \n",
    "        break\n",
    "      \n"
   ]
  },
  {
   "cell_type": "markdown",
   "metadata": {},
   "source": [
    "---"
   ]
  },
  {
   "cell_type": "markdown",
   "metadata": {},
   "source": [
    "## 3. Listas, dicionários, tuples e sets"
   ]
  },
  {
   "cell_type": "markdown",
   "metadata": {},
   "source": [
    "#### Exercício 1\n",
    "\n",
    "<a id='3_ex1'></a>"
   ]
  },
  {
   "cell_type": "code",
   "execution_count": 25,
   "metadata": {},
   "outputs": [
    {
     "name": "stdout",
     "output_type": "stream",
     "text": [
      "1\n",
      "2\n",
      "3\n",
      "4\n",
      "5\n"
     ]
    }
   ],
   "source": [
    "my_lst = []\n",
    "\n",
    "for num in range(1,6):\n",
    "    my_lst.append(num)\n",
    "\n",
    "for i in my_lst:\n",
    "    print(i)"
   ]
  },
  {
   "cell_type": "markdown",
   "metadata": {},
   "source": [
    " "
   ]
  },
  {
   "cell_type": "markdown",
   "metadata": {},
   "source": [
    "#### Exercício 2\n",
    "\n",
    "<a id='3_ex2'></a>"
   ]
  },
  {
   "cell_type": "code",
   "execution_count": 27,
   "metadata": {},
   "outputs": [
    {
     "name": "stdout",
     "output_type": "stream",
     "text": [
      "['Fox', 'Ju', 'Matt', 'Duguay', 'Sulli', 'Xuli', 'Racha', 'Pfaffengod']\n"
     ]
    }
   ],
   "source": [
    "names_string = \"Fox Ju Matt Duguay Sulli Xuli Racha Pfaffengod\"\n",
    "my_lst_2 = names_string.split()\n",
    "\n",
    "print(my_lst_2)"
   ]
  },
  {
   "cell_type": "markdown",
   "metadata": {},
   "source": [
    " "
   ]
  },
  {
   "cell_type": "markdown",
   "metadata": {},
   "source": [
    "#### Exercício 3\n",
    "\n",
    "<a id='3_ex3'></a>"
   ]
  },
  {
   "cell_type": "code",
   "execution_count": null,
   "metadata": {},
   "outputs": [],
   "source": []
  },
  {
   "cell_type": "code",
   "execution_count": null,
   "metadata": {},
   "outputs": [],
   "source": []
  },
  {
   "cell_type": "markdown",
   "metadata": {},
   "source": [
    "#### **Exercício 6 - Desafio**\n",
    "\n",
    "<a id='3_ex6'></a>"
   ]
  },
  {
   "cell_type": "code",
   "execution_count": 23,
   "metadata": {},
   "outputs": [
    {
     "name": "stdout",
     "output_type": "stream",
     "text": [
      "Before: {'gold coin': 5, 'ruby': 3, 'scroll of thunder': 1, 'sword': 1, 'potion': 10}\n",
      "After: {'gold coin': 8, 'ruby': 4, 'scroll of thunder': 1, 'sword': 1, 'potion': 10, 'scroll of fire': 1}\n"
     ]
    }
   ],
   "source": [
    "inventory = {\"gold coin\":5, \"ruby\":3, \"scroll of thunder\":1, \"sword\":1, \"potion\":10}\n",
    "dragon_loot = [\"gold coin\", \"gold coin\", \"gold coin\",\"ruby\",\"scroll of fire\"]\n",
    "\n",
    "print(\"Before: {}\".format(inventory))\n",
    "\n",
    "for i in dragon_loot:\n",
    "    if i in inventory.keys():\n",
    "        inventory[i] += 1\n",
    "    else:\n",
    "        inventory[i] = 1\n",
    "        \n",
    "print(\"After: {}\".format(inventory))"
   ]
  },
  {
   "cell_type": "code",
   "execution_count": null,
   "metadata": {},
   "outputs": [],
   "source": []
  }
 ],
 "metadata": {
  "kernelspec": {
   "display_name": "Python 3",
   "language": "python",
   "name": "python3"
  },
  "language_info": {
   "codemirror_mode": {
    "name": "ipython",
    "version": 3
   },
   "file_extension": ".py",
   "mimetype": "text/x-python",
   "name": "python",
   "nbconvert_exporter": "python",
   "pygments_lexer": "ipython3",
   "version": "3.6.5"
  }
 },
 "nbformat": 4,
 "nbformat_minor": 2
}
